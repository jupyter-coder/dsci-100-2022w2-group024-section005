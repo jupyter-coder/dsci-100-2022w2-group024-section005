{
 "cells": [
  {
   "cell_type": "code",
   "execution_count": null,
   "id": "65b61592-2d92-414f-a3bf-ce3ac9bc7355",
   "metadata": {},
   "outputs": [],
   "source": [
    "#testing"
   ]
  }
 ],
 "metadata": {
  "kernelspec": {
   "display_name": "R",
   "language": "R",
   "name": "ir"
  },
  "language_info": {
   "codemirror_mode": "r",
   "file_extension": ".r",
   "mimetype": "text/x-r-source",
   "name": "R",
   "pygments_lexer": "r",
   "version": "4.1.3"
  }
 },
 "nbformat": 4,
 "nbformat_minor": 5
}

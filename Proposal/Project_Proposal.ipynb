{
 "cells": [
  {
   "cell_type": "markdown",
   "id": "7d32209d-1cc1-4853-bd93-46135c0dc1cb",
   "metadata": {},
   "source": [
    "# Classification of Pulsars: Distinguishing between Real and Candidate Pulsars Using Emission Patterns # \n"
   ]
  },
  {
   "cell_type": "markdown",
   "id": "861631e3-cd5a-4e69-888c-0d93c13632c4",
   "metadata": {},
   "source": [
    "# Introduction:\n",
    "Provide some relevant background information on the topic so that someone unfamiliar with it will be prepared to understand the rest of your proposal.\n",
    "Clearly state the question you will try to answer with your project.\n",
    "Identify and describe the dataset that will be used to answer the question. \n"
   ]
  },
  {
   "cell_type": "markdown",
   "id": "8f6151d0-db94-478e-82a9-050ea392dc51",
   "metadata": {},
   "source": [
    "- It explores the rare type of Neutron star that emits radio emission detected on Earth. Current research is based on space-time, interstellar medium and states of matter that produce emission beams of radiation as it crosses the path of Earth, and with pulsars rotation, a pattern occurs frequently. Each pulsar  emits a different type of emission pattern which means the emission variation can provide answers whether the pulsar is real or fake. \n",
    "- Our question will ask “Is the pulsar real or fake as it passes through the Earth’s line of path?” \n",
    "- To identify the answer to our question, the dataset provides information on “candidate (fake)” pulsar examples, treating the candidate data sets as binary classification problems, similar to the methods done by the researchers. "
   ]
  },
  {
   "cell_type": "markdown",
   "id": "2db033d3-468e-4078-8934-376b91efb36a",
   "metadata": {},
   "source": [
    "# Preliminary exploratory data analysis: \n",
    "Demonstrate that the dataset can be read from the web into R"
   ]
  },
  {
   "cell_type": "code",
   "execution_count": null,
   "id": "293d7fbf-1e66-45f1-be05-f7723d67513e",
   "metadata": {},
   "outputs": [],
   "source": [
    "temp <- tempfile()\n",
    "download.file(\"https://archive.ics.uci.edu/ml/machine-learning-databases/00372/HTRU2.zip\",temp)\n",
    "\n",
    "data <- read.table(unz(temp, \"HTRU_2.arff\"), skip = 11) |>\n",
    "        separate(col = \"V1\",\n",
    "                 into = c(\"mean\", \"st_deviation\", \"excess_kurtosis\", \"skewness\", \"mean_curve\", \"st_deviation_curve\", \"excess_kurtosis_curve\", \"skewness_curve\", \"class\"),\n",
    "                 sep = ',',\n",
    "                 convert = TRUE)\n",
    "unlink(temp)\n",
    "\n",
    "data\n"
   ]
  },
  {
   "cell_type": "markdown",
   "id": "a613fa9f-a6d5-44ee-8441-462bf875ceda",
   "metadata": {},
   "source": [
    "# Clean and wrangle your data into a tidy format\n",
    "Using only training data, summarize the data in at least one table (this is exploratory data analysis). An example of a useful table could be one that reports the number of observations in each class, the means of the predictor variables you plan to use in your analysis and how many rows have missing data. "
   ]
  },
  {
   "cell_type": "code",
   "execution_count": null,
   "id": "dc5c66fe-9462-4a3a-89fd-eb0da485f607",
   "metadata": {},
   "outputs": [],
   "source": [
    "Number of observations per class:\n",
    "pulsar_proportions <- df_train |>\n",
    "                     group_by(class) |>\n",
    "                     summarize(n = n()) |>\n",
    "                     mutate(percent = 100*n/nrow(df_train))\n",
    "pulsar_proportions\n"
   ]
  },
  {
   "cell_type": "markdown",
   "id": "8f364308-1b14-4be4-a3f5-47210e8ae9a4",
   "metadata": {},
   "source": [
    "# Using only training data, visualize the data with at least one plot relevant to the analysis you plan to do (this is exploratory data analysis). \n",
    "An example of a useful visualization could be one that compares the distributions of each of the predictor variables you plan to use in your analysis."
   ]
  },
  {
   "cell_type": "code",
   "execution_count": null,
   "id": "75a18257-d83d-4953-ae94-2f9192236d12",
   "metadata": {},
   "outputs": [],
   "source": [
    "The distribution of the mean and standard deviation of the integrated profile, with the different colors indicating whether it is a pulsar or not:\n",
    "distribution_plot <- df_train |>\n",
    "                     ggplot(aes(x = mean, y = st_deviation)) +\n",
    "                         geom_point(aes(color = class)) +\n",
    "                         xlab(\"Mean of the integrated profile\") +\n",
    "                         ylab(\"Standard deviation of the integrated profile\") +\n",
    "                         labs(color = \"Class\")\n",
    "distribution_plot\n",
    "When centered and standardized, the code for the graph is\n",
    "standardized_train <- df_recipe |> prep() |> bake(df_train)\n",
    "\n",
    "st_distribution_plot <- standardized_train |>\n",
    "                     ggplot(aes(x = mean, y = st_deviation)) +\n",
    "                         geom_point(aes(color = class)) +\n",
    "                         xlab(\"Mean of the integrated profile\") +\n",
    "                         ylab(\"Standard deviation of the integrated profile\") +\n",
    "                         labs(color = \"Class\")\n",
    "st_distribution_plot\n"
   ]
  },
  {
   "cell_type": "markdown",
   "id": "6ff7b5a6-d908-4c32-853b-94f276aa4721",
   "metadata": {},
   "source": [
    "# Methods:\n",
    "Explain how you will conduct either your data analysis and which variables/columns you will use. Note - you do not need to use all variables/columns that exist in the raw data set. In fact, that's often not a good idea. For each variable think: is this a useful variable for prediction?\n",
    "\n",
    "Describe at least one way that you will visualize the results\n"
   ]
  },
  {
   "cell_type": "markdown",
   "id": "1df24ba0-24f7-4dea-a691-90c688a8201a",
   "metadata": {},
   "source": [
    "- According to the research question, the K-nearest neighbours   classification algorithm is used to analyze the data. The data set has 9 quantitative variables, which can be divided into two groups called Integrated Pulse Profile and DM-SNR Curve. The Mean and standard deviation of the integrated profile will be used to estimate whether the pulsar star is real or fake. Taking the average signals from the slight variations of emission can help us make the pulsars profiles stable and be able to determine the real and candidate pulsars. \n",
    "\n",
    "- We will use a scatter plot and a line graph to visualize the results and demonstrate correlation and likelihood pattern of the pulsars. The scatterplot will show the difference in mean and standard deviation of the integrated profile between the real pulsar and spurious data made by RFI/noise.\n"
   ]
  },
  {
   "cell_type": "markdown",
   "id": "1b9d9bc0-85cf-47b1-8fb0-b6355ff3f54c",
   "metadata": {},
   "source": [
    "# Expected outcomes and significance:\n",
    "\n",
    "What do you expect to find?\n",
    "\n",
    "- Patterns or features in the dataset that distinguish real pulsars from fake ones which could include specific emission patterns, rotation periods, or other characteristics that are unique to real pulsars.\n",
    "\n",
    "What impact could such findings have?\n",
    "\n",
    "- A reliable classification method could improve the efficiency and accuracy   of pulsar surveys, enabling astronomers to identify new pulsars more quickly and with greater confidence.\n",
    "- Advance our understanding of these objects and the astrophysical processes that give rise to their emission. \n",
    "\n",
    "What future questions could this lead to?\n",
    "\n",
    "- It will lead to future research questions in the field of pulsar astrophysics.\n",
    "- How can we use classification methods to understand better the pulsar population in the Milky Way and other galaxies?\n",
    "- Can the classification method be extended to other types of pulsar data?\n",
    "- Overall, successful studies of pulsar classification can open up new avenues of research in pulsar astrophysics and related fields, leading to discoveries and insights into the nature of the universe.\n",
    "\n",
    "\n"
   ]
  },
  {
   "cell_type": "code",
   "execution_count": null,
   "id": "28bd7ab5-3382-415d-b81a-37c81adfa23e",
   "metadata": {},
   "outputs": [],
   "source": []
  }
 ],
 "metadata": {
  "kernelspec": {
   "display_name": "R",
   "language": "R",
   "name": "ir"
  },
  "language_info": {
   "codemirror_mode": "r",
   "file_extension": ".r",
   "mimetype": "text/x-r-source",
   "name": "R",
   "pygments_lexer": "r",
   "version": "4.1.3"
  }
 },
 "nbformat": 4,
 "nbformat_minor": 5
}
